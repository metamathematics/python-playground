{
 "cells": [
  {
   "cell_type": "code",
   "execution_count": 1,
   "metadata": {},
   "outputs": [],
   "source": [
    "import numpy as np\n",
    "import matplotlib.pyplot as plt"
   ]
  },
  {
   "cell_type": "code",
   "execution_count": 2,
   "metadata": {},
   "outputs": [],
   "source": [
    "def roll():\n",
    "    d1 = np.random.choice([1, 2, 3, 4, 5, 6], p=[1/6, 1/6, 1/6, 1/6, 1/6, 1/6])\n",
    "    d2 = np.random.choice([1, 2, 3, 4, 5, 6], p=[1/6, 1/6, 1/6, 1/6, 1/6, 1/6])\n",
    "    return d1, d2"
   ]
  },
  {
   "cell_type": "code",
   "execution_count": 8,
   "metadata": {},
   "outputs": [
    {
     "data": {
      "image/png": "[encoded data removed]",
      "text/plain": [
       "<Figure size 432x288 with 1 Axes>"
      ]
     },
     "metadata": {
      "needs_background": "light"
     },
     "output_type": "display_data"
    }
   ],
   "source": [
    "dice_rolls = []\n",
    "\n",
    "for _ in range(5000):\n",
    "    a, b = roll()\n",
    "    dice_rolls.append(a + b)\n",
    "    \n",
    "plt.hist(dice_rolls, bins=11, edgecolor='black', alpha=.5);"
   ]
  },
  {
   "cell_type": "code",
   "execution_count": 9,
   "metadata": {},
   "outputs": [
    {
     "name": "stdout",
     "output_type": "stream",
     "text": [
      "2: 0.025\n",
      "3: 0.056\n",
      "4: 0.087\n",
      "5: 0.109\n",
      "6: 0.136\n",
      "7: 0.172\n",
      "8: 0.136\n",
      "9: 0.111\n",
      "10: 0.088\n",
      "11: 0.052\n",
      "12: 0.027\n"
     ]
    }
   ],
   "source": [
    "for i in range(2, 13):\n",
    "    print(f'{i}: {len([x for x in dice_rolls if x == i]) / len(dice_rolls):.3f}')"
   ]
  }
 ],
 "metadata": {
  "kernelspec": {
   "display_name": "Python 3",
   "language": "python",
   "name": "python3"
  },
  "language_info": {
   "codemirror_mode": {
    "name": "ipython",
    "version": 3
   },
   "file_extension": ".py",
   "mimetype": "text/x-python",
   "name": "python",
   "nbconvert_exporter": "python",
   "pygments_lexer": "ipython3",
   "version": "3.7.6"
  }
 },
 "nbformat": 4,
 "nbformat_minor": 4
}
